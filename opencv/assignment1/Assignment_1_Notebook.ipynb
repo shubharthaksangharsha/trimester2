{
 "cells": [
  {
   "cell_type": "markdown",
   "metadata": {
    "id": "mVr6zh_RnvXC"
   },
   "source": [
    "# Computer Vision 2025 Assignment 1: Image filtering.\n",
    "\n",
    "In this assignment you will research, implement and test some image filtering operations. Image filtering by convolution is a fundamental step in many computer vision tasks, and you will find it useful to have a firm grasp of how it works.\n",
    "For example, later in the course we will come across Convolutional Neural Networks (CNNs) which are a combination of convolutional filters learned to solve specific tasks.\n",
    "\n",
    "The main aims of the assignment are:\n",
    "\n",
    "- to understand the basics of how images are stored and processed in memory;\n",
    "- to gain exposure to several common image filters, and understand how they work;\n",
    "- to get practical experience implementing convolutional image filters;\n",
    "- to test your intuition about image filtering by running some experiments;\n",
    "- to report your results in a clear and concise manner.\n",
    "\n",
    "*This assignment relates to the following ACS CBOK areas: abstraction, design, hardware and software, data and information, HCI and programming.*\n",
    "\n",
    "## General instructions\n",
    "\n",
    "Follow the instructions in this Python notebook and the accompanying file *a1code.py* to answer each question. It's your responsibility to make sure your answer to each question is clearly labelled and easy to understand. Note that most questions require some combination of Python code, graphical output, and text analysing or describing your results. Although we will check your code as needed, marks will be assigned primarily based on the quality of your report rather than for the code itself! We are more interested in your understanding of the topic but code clarify, logic, and commenting reflect tge depth of your understanding as well!\n",
    "\n",
    "Only a small amount of code is required to answer each question. We will make extensive use of the Python libraries\n",
    "\n",
    "- [numpy](numpy.org) for mathematical functions\n",
    "- [skimage](https://scikit-image.org) for image loading and processing\n",
    "- [matplotlib](https://matplotlib.org/stable/index.html) for displaying graphical results\n",
    "- [jupyter](https://jupyter.org) for Jupyter Notebooks\n",
    "\n",
    "You should get familiar with the documentation for these libraries so that you can use them effectively.\n",
    "\n",
    "# The Questions\n",
    "\n",
    "To get started, below is some setup code to import the libraries we need. You should not need to edit it."
   ]
  },
  {
   "cell_type": "code",
   "execution_count": 1,
   "metadata": {
    "id": "xTzS8va6nvXI"
   },
   "outputs": [],
   "source": [
    "# Numpy is the main package for scientific computing with Python.\n",
    "import numpy as np\n",
    "\n",
    "#from skimage import io\n",
    "\n",
    "# Imports all the methods we define in the file a1code.py\n",
    "from a1code import *\n",
    "\n",
    "# Matplotlib is a useful plotting library for python\n",
    "import matplotlib.pyplot as plt\n",
    "# This code is to make matplotlib figures appear inline in the\n",
    "# notebook rather than in a new window.\n",
    "%matplotlib inline\n",
    "plt.rcParams['figure.figsize'] = (10.0, 8.0) # set default size of plots\n",
    "plt.rcParams['image.interpolation'] = 'nearest'\n",
    "plt.rcParams['image.cmap'] = 'gray'\n",
    "\n",
    "# Some more magic so that the notebook will reload external python modules;\n",
    "# see http://stackoverflow.com/questions/1907993/autoreload-of-modules-in-ipython\n",
    "%load_ext autoreload\n",
    "%autoreload 2\n",
    "%reload_ext autoreload"
   ]
  },
  {
   "cell_type": "markdown",
   "metadata": {
    "id": "6ye5axCbnvXJ"
   },
   "source": [
    "## Question 0: Numpy warm up! (Not Assesed. This part is for you to understand the basic of numpy)\n",
    "\n",
    "Before starting the assignment, make sure you have a working Python 3 installation, with up to date versions of the libraries mentioned above. If this is all new to you, I'd suggest  downloading an all in one Python installation such as [Anaconda](https://www.anaconda.com/products/individual). Alternatively you can use a Python package manager such as pip or conda, to get the libraries you need. If you're struggling with this please ask a question on the MyUni discussion forum.\n",
    "\n",
    "For this assignment, you need some familiarity with numpy syntax. The numpy QuickStart should be enough to get you started:\n",
    "\n",
    "https://numpy.org/doc/stable/user/quickstart.html\n",
    "\n",
    "Here are a few warm up exercises to make sure you understand the basics. Answer them in the space below. Be sure to print the output of each question so we can see it!\n",
    "\n",
    "1. Create a 1D numpy array Z with 12 elements. Fill with values 1 to 12.\n",
    "2. Reshape Z into a 2D numpy array A with 3 rows and 4 columns.\n",
    "3. Reshape Z into a 2D numpy array B with 4 rows and 3 columns.\n",
    "4. Calculate the *matrix* product of A and B.\n",
    "5. Calculate the *element wise* product of $A$ and $B^T$ (B transpose).\n"
   ]
  },
  {
   "cell_type": "code",
   "execution_count": null,
   "metadata": {
    "id": "dcCk1Jt6nvXK"
   },
   "outputs": [],
   "source": [
    "# 1. Create a 1D numpy array Z with 12 elements. Fill with values 1 to 12.\n",
    "Z = np.arange(1, 13)\n",
    "print(\"1. Z:\", Z)\n",
    "\n",
    "# 2. Reshape Z into a 2D numpy array A with 3 rows and 4 columns.\n",
    "A = Z.reshape(3, 4)\n",
    "print(\"\\n2. A:\\n\", A)\n",
    "\n",
    "# 3. Reshape Z into a 2D numpy array B with 4 rows and 3 columns.\n",
    "B = Z.reshape(4, 3)\n",
    "print(\"\\n3. B:\\n\", B)\n",
    "\n",
    "# 4. Calculate the *matrix* product of A and B.\n",
    "matrix_product = np.dot(A, B)\n",
    "print(\"\\n4. Matrix product of A and B:\\n\", matrix_product)\n",
    "\n",
    "# 5. Calculate the *element wise* product of A and B^T (B transpose).\n",
    "element_wise_product = A * B.T\n",
    "print(\"\\n5. Element-wise product of A and B.T:\\n\", element_wise_product)"
   ]
  },
  {
   "cell_type": "markdown",
   "metadata": {
    "id": "B60zKcbpnvXK"
   },
   "source": [
    "You need to be comfortable with numpy arrays because that is how we store images. Let's do that next!\n",
    "\n",
    "## Question 1: Loading and displaying an image (10%)\n",
    "\n",
    "Below is a function to display an image using the pyplot module in matplotlib. Implement the `load()` and `print_stats()` functions in a1code.py so that the following code loads the mandrill image, displays it and prints its height, width and channel."
   ]
  },
  {
   "cell_type": "code",
   "execution_count": 2,
   "metadata": {
    "id": "a9wLpQz-nvXL"
   },
   "outputs": [],
   "source": [
    "def display(img, caption=''):\n",
    "    # Show image using pyplot\n",
    "    plt.figure()\n",
    "    plt.imshow(img)\n",
    "    plt.title(caption)\n",
    "    plt.axis('off')\n",
    "    plt.show()"
   ]
  },
  {
   "cell_type": "code",
   "execution_count": null,
   "metadata": {
    "id": "g4Rp8XW7nvXM"
   },
   "outputs": [],
   "source": [
    "image1 = load('whipbird.jpg')\n",
    "\n",
    "display(image1, 'whipbird')\n",
    "\n",
    "print_stats(image1)"
   ]
  },
  {
   "cell_type": "markdown",
   "metadata": {
    "id": "tCONJ-XunvXN"
   },
   "source": [
    "Return to this question after reading through the rest of the assignment. Find **at least 2 more images** to use as test cases in this assignment for all the following questions and display them below. Use your print_stats() function to display their height, width and number of channels. Explain *why* you have chosen each image."
   ]
  },
  {
   "cell_type": "code",
   "execution_count": null,
   "metadata": {
    "id": "y4-kgWamnvXN"
   },
   "outputs": [],
   "source": [
    "### Your code to load and display your images here\n",
    "# Load your two new images. Make sure the files are in the same folder as the notebook.\n",
    "try:\n",
    "    image2 = load('image2.jpg') \n",
    "    display(image2, 'Test Image 2')\n",
    "    print_stats(image2)\n",
    "except FileNotFoundError:\n",
    "    print(\"ACTION REQUIRED: Please add an image named 'image2.jpg' to your folder.\")\n",
    "\n",
    "try:\n",
    "    image3 = load('image3.jpg')\n",
    "    display(image3, 'Test Image 3')\n",
    "    print_stats(image3)\n",
    "except FileNotFoundError:\n",
    "    print(\"ACTION REQUIRED: Please add an image named 'image3.jpg' to your folder.\")"
   ]
  },
  {
   "cell_type": "markdown",
   "metadata": {
    "id": "teBs9aY_nvXO"
   },
   "source": [
    "***Your explanation of images here***"
   ]
  },
  {
   "cell_type": "markdown",
   "metadata": {},
   "source": [
    "What happens when a processed pixel value becomes < 0 or > 255,\n",
    "and what effect does this have on later processing?"
   ]
  },
  {
   "cell_type": "markdown",
   "metadata": {},
   "source": [
    "***Your explanation of the question above here***"
   ]
  },
  {
   "cell_type": "markdown",
   "metadata": {},
   "source": [
    "Apply the point process only to one channel of the image (red, green or blue). Display the resulting RGB image"
   ]
  },
  {
   "cell_type": "code",
   "execution_count": null,
   "metadata": {},
   "outputs": [],
   "source": [
    "### Your code to apply point processing here\n",
    "# Make a copy to avoid modifying the original image\n",
    "image1_processed = image1.copy()\n",
    "\n",
    "# Apply a contrast change with a factor of 2, but only to the RED channel (index 0)\n",
    "image1_processed[:, :, 0] = change_contrast(image1_processed[:, :, 0], 2.0)\n",
    "\n",
    "display(image1_processed, 'Contrast increased on Red channel only')"
   ]
  },
  {
   "cell_type": "markdown",
   "metadata": {
    "id": "D0C4vaWAnvXP",
    "tags": []
   },
   "source": [
    "## Question 2: Image processing (20%)\n",
    "\n",
    "Now that you have an image stored as a numpy array, let's try some operations on it.\n",
    "\n",
    "1. Implement the `crop()` function in a1code.py. Use array slicing to crop the image.\n",
    "2. Implement the `resize()` function in a1code.py.\n",
    "3. Implement the `change_contrast()` function in a1code.py.\n",
    "4. Implement the `greyscale()` function in a1code.py.\n",
    "5. Implement the `binary()` function in a1code.py.\n",
    "\n",
    "What do you observe when you change the threshold of the binary function?\n",
    "\n",
    "Apply all these functions with different parameters on your own test images."
   ]
  },
  {
   "cell_type": "code",
   "execution_count": null,
   "metadata": {
    "id": "wa-uPtH7nvXP"
   },
   "outputs": [],
   "source": [
    "# This should crop the bird from the  image; you will need to adjust the parameters for the correct crop size and location\n",
    "crop_img = crop(image1, 278, 5, 508, 272)\n",
    "display(crop_img)\n",
    "print_stats(crop_img)\n",
    "\n",
    "resize_img = resize(crop_img, 500, 600)\n",
    "display(resize_img)\n",
    "print_stats(resize_img)\n",
    "\n",
    "contrast_img = change_contrast(image1, 0.5)\n",
    "display(contrast_img)\n",
    "print_stats(contrast_img)\n",
    "\n",
    "contrast_img = change_contrast(image1, 1.5)\n",
    "display(contrast_img)\n",
    "print_stats(contrast_img)\n",
    "\n",
    "grey_img = greyscale(image1)\n",
    "display(grey_img)\n",
    "print_stats(grey_img)\n",
    "\n",
    "binary_img = binary(grey_img, 0.3)\n",
    "display(binary_img)\n",
    "print_stats(binary_img)\n",
    "\n",
    "binary_img = binary(grey_img, 0.7)\n",
    "display(binary_img)\n",
    "print_stats(binary_img)\n",
    "\n",
    "# Add your own tests here...\n"
   ]
  },
  {
   "cell_type": "markdown",
   "metadata": {
    "id": "dx6w6z0ynvXP"
   },
   "source": [
    "## Question 3: Image filtering (20%)\n",
    "\n",
    "### 3.1(a) 2D cross-correlation\n",
    "\n",
    "Using the definition of 2D cross-correlation from week 1, implement the cross-correlation operation in the function `xcorr2D()` in a1code.py.\n"
   ]
  },
  {
   "cell_type": "code",
   "execution_count": null,
   "metadata": {},
   "outputs": [],
   "source": [
    "test_xcorr2D()\n",
    "print(\"xcorr2D test passed!\")"
   ]
  },
  {
   "cell_type": "markdown",
   "metadata": {},
   "source": [
    "### 3.1(b) 2D convolution\n",
    "\n",
    "Using the definition of 2D convolution from week 1, implement the convolution operation in the function `conv2D()` in a1code.py."
   ]
  },
  {
   "cell_type": "code",
   "execution_count": null,
   "metadata": {
    "id": "sIkQld3envXQ"
   },
   "outputs": [],
   "source": [
    "test_conv2D()\n",
    "print(\"conv2D test passed!\")"
   ]
  },
  {
   "cell_type": "markdown",
   "metadata": {
    "id": "JxsYnQQPnvXQ"
   },
   "source": [
    "### 3.1(c) RGB convolution\n",
    "\n",
    "In the function `conv` in a1code.py, extend your function `conv2D` to work on RGB images, by applying the 2D convolution to each channel independently."
   ]
  },
  {
   "cell_type": "markdown",
   "metadata": {
    "id": "Dv82cYbgnvXQ"
   },
   "source": [
    "### 3.2 Gaussian filter convolution\n",
    "\n",
    "Use the `gauss2D` function provided in a1code.py to create a Gaussian kernel, and apply it to your images with convolution. You will obtain marks for trying different tests and analysing the results, for example:\n",
    "\n",
    "- try varying the image size, and the size and variance of the filter  \n",
    "- subtract the filtered image from the original - this gives you an idea of what information is lost when filtering\n",
    "\n",
    "What do you observe and why?"
   ]
  },
  {
   "cell_type": "markdown",
   "metadata": {
    "id": "WpnxewpanvXR"
   },
   "source": [
    "### 3.3 Sobel filters\n",
    "\n",
    "Define a horizontal and vertical Sobel edge filter kernel and test them on your images. You will obtain marks for testing them and displaying results in interesting ways, for example:\n",
    "\n",
    "- apply them to an image at different scales\n",
    "- considering how to display positive and negative gradients\n",
    "- apply different combinations of horizontal and vertical filters as asked in the Assignment sheet."
   ]
  },
  {
   "cell_type": "code",
   "execution_count": null,
   "metadata": {
    "id": "MfLN6SvinvXR"
   },
   "outputs": [],
   "source": [
    "# Your code to answer 3.3, 3.4 and display results here.\n",
    "# 3.2 Gaussian filter convolution\n",
    "print(\"--- Gaussian Filter ---\")\n",
    "gauss_kernel = gauss2D(size=9, sigma=2)\n",
    "blurred_img = conv(grey_img, gauss_kernel)\n",
    "display(blurred_img, 'Gaussian Blurred Image (sigma=2)')\n",
    "\n",
    "# Subtract filtered from original to see what's lost (the edges)\n",
    "lost_info = grey_img - blurred_img\n",
    "display(lost_info, 'Information Lost During Blurring (Edges)')\n",
    "\n",
    "# 3.3 Sobel filters\n",
    "print(\"--- Sobel Edge Detection ---\")\n",
    "sobel_x = np.array([[-1, 0, 1], [-2, 0, 2], [-1, 0, 1]], dtype=float)\n",
    "sobel_y = np.array([[-1, -2, -1], [0, 0, 0], [1, 2, 1]], dtype=float)\n",
    "edges_x = conv(grey_img, sobel_x)\n",
    "edges_y = conv(grey_img, sobel_y)\n",
    "display(edges_x + 0.5, 'Horizontal Gradients (Sobel X)')\n",
    "display(edges_y + 0.5, 'Vertical Gradients (Sobel Y)')\n",
    "\n",
    "# Calculate and display the gradient magnitude\n",
    "grad_magnitude = np.sqrt(edges_x**2 + edges_y**2)\n",
    "display(grad_magnitude, 'Gradient Magnitude (Edges)')"
   ]
  },
  {
   "cell_type": "markdown",
   "metadata": {
    "id": "hp9L6sfynvXR"
   },
   "source": [
    "***Your comments/analysis of your results here...***"
   ]
  },
  {
   "cell_type": "markdown",
   "metadata": {
    "id": "NCSysY1VnvXR",
    "tags": []
   },
   "source": [
    "## Question 4: Image sampling and pyramids (25%)\n",
    "\n",
    "### 4.1 Image Sampling\n",
    "\n",
    "- Apply your `resize()` function to reduce an image (I) to 0.5\\*height and 0.5\\*width\n",
    "\n",
    "- Repeat the above procedure, but apply a Gaussian blur filter to your original image before downsampling it. How does the result compare to your previous output, and to the original image? Why?\n",
    "\n",
    "\n",
    "### 4.2 Image Pyramids\n",
    "- Create a Gaussian pyramid as described in week2's lecture on an image.\n",
    "\n",
    "- Apply a Gaussian kernel to an image I, and resize it with ratio 0.5, to get $I_1$. Repeat this step to get $I_2$, $I_3$ and $I_4$.\n",
    "\n",
    "- Display these four images in a manner analogus to the example shown in the lectures.\n",
    "\n",
    "\n"
   ]
  },
  {
   "cell_type": "code",
   "execution_count": null,
   "metadata": {
    "id": "6tJYuApFnvXS"
   },
   "outputs": [],
   "source": [
    "# Your answers to question 4 here\n",
    "# 4.1 Image Sampling\n",
    "print(\"--- Image Sampling ---\")\n",
    "# 1. Reduce size directly\n",
    "resized_native = resize(image1, int(image1.shape[0] * 0.5), int(image1.shape[1] * 0.5))\n",
    "display(resized_native, 'Downsampled (Nearest Neighbor)')\n",
    "\n",
    "# 2. Blur first, then reduce size\n",
    "gauss_kernel_q4 = gauss2D(size=5, sigma=1.0)\n",
    "blurred_for_resize = conv(image1, gauss_kernel_q4)\n",
    "resized_antialiased = resize(blurred_for_resize, int(image1.shape[0] * 0.5), int(image1.shape[1] * 0.5))\n",
    "display(resized_antialiased, 'Downsampled with Pre-blur (Anti-aliased)')\n",
    "\n",
    "# 4.2 Image Pyramids\n",
    "print(\"--- Gaussian Pyramid ---\")\n",
    "def create_gaussian_pyramid(image, num_levels=4):\n",
    "    pyramid = [image]\n",
    "    current_image = image\n",
    "    for _ in range(num_levels - 1):\n",
    "        gauss_kernel = gauss2D(size=5, sigma=1)\n",
    "        blurred = conv(current_image, gauss_kernel)\n",
    "        downsampled = resize(blurred, int(current_image.shape[0] * 0.5), int(current_image.shape[1] * 0.5))\n",
    "        pyramid.append(downsampled)\n",
    "        current_image = downsampled\n",
    "    return pyramid\n",
    "\n",
    "pyramid = create_gaussian_pyramid(image1, num_levels=4)\n",
    "\n",
    "# Display the pyramid\n",
    "rows, cols, _ = image1.shape\n",
    "composite_image = np.zeros((rows, cols + cols // 2, 3))\n",
    "composite_image[:rows, :cols, :] = pyramid[0]\n",
    "y_offset = 0\n",
    "for i in range(1, len(pyramid)):\n",
    "    h, w, _ = pyramid[i].shape\n",
    "    composite_image[y_offset:y_offset + h, cols:cols + w, :] = pyramid[i]\n",
    "    y_offset += h\n",
    "display(composite_image, \"Gaussian Pyramid\")"
   ]
  },
  {
   "cell_type": "markdown",
   "metadata": {
    "id": "23grHWRLnvXS"
   },
   "source": [
    "***Your comments/analysis of your results here...***"
   ]
  },
  {
   "cell_type": "markdown",
   "metadata": {
    "id": "QiwL3SpHnvXS"
   },
   "source": [
    "## Question 5: Implement a blob detector (25%)\n",
    "\n",
    "The image filtering lectures, particularly Lecture 2, have covered the details related to this question.\n",
    "\n",
    "### 5.1 Apply and analyse a blob detector\n",
    "\n",
    "- Create a Laplacian of Gaussian (LoG) filter in the function `LoG2D()` and visualize its response on your images. You can use the template function (and hints therein) for the task if you wish.\n",
    "\n",
    "- Modify parameters of the LoG filters and apply them to an image of your choice. Show how these variations are manifested in the output.\n",
    "\n",
    "- Repeat the experiment by rescaling the image with a combination of appropriate filters designed by you for these assignment. What correlations do you find when changing the scale or modifying the filters?\n",
    "\n",
    "- How does the response of LoG filter change when you rotate the image by 90 degrees? You can write a function to rotate the image or use an externally rotated image for this task.\n",
    "\n",
    "\n",
    "\n"
   ]
  },
  {
   "cell_type": "code",
   "execution_count": null,
   "metadata": {
    "id": "B_fvxboznvXS"
   },
   "outputs": [],
   "source": [
    "# Your code to answer question 5 and display results here\n",
    "# 5.1 Apply and analyse a blob detector\n",
    "print(\"--- Laplacian of Gaussian (LoG) Blob Detector ---\")\n",
    "# Create LoG filters with different sigmas\n",
    "log_filter_small = LoG2D(size=9, sigma=1.5)\n",
    "log_filter_medium = LoG2D(size=15, sigma=3.0)\n",
    "log_filter_large = LoG2D(size=25, sigma=6.0)\n",
    "\n",
    "# Apply filters to the greyscale image\n",
    "log_response_small = conv(grey_img, log_filter_small)\n",
    "log_response_medium = conv(grey_img, log_filter_medium)\n",
    "log_response_large = conv(grey_img, log_filter_large)\n",
    "\n",
    "# Display the responses\n",
    "display(np.abs(log_response_small), 'LoG Response for Small Blobs (sigma=1.5)')\n",
    "display(np.abs(log_response_medium), 'LoG Response for Medium Blobs (sigma=3.0)')\n",
    "display(np.abs(log_response_large), 'LoG Response for Large Blobs (sigma=6.0)')\n",
    "\n",
    "# Test rotational invariance\n",
    "print(\"--- Testing Rotational Invariance ---\")\n",
    "rotated_grey = np.rot90(grey_img)\n",
    "rotated_response = conv(rotated_grey, log_filter_medium)\n",
    "display(np.abs(rotated_response), 'Response on 90-degree Rotated Image')"
   ]
  }
 ],
 "metadata": {
  "colab": {
   "provenance": []
  },
  "kernelspec": {
   "display_name": "Python 3",
   "language": "python",
   "name": "python3"
  },
  "language_info": {
   "codemirror_mode": {
    "name": "ipython",
    "version": 3
   },
   "file_extension": ".py",
   "mimetype": "text/x-python",
   "name": "python",
   "nbconvert_exporter": "python",
   "pygments_lexer": "ipython3",
   "version": "3.10.12"
  }
 },
 "nbformat": 4,
 "nbformat_minor": 0
}
